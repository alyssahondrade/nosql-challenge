








# Import dependencies
from pymongo import MongoClient
from pprint import pprint


# Create an instance of MongoClient
mongo = MongoClient(port=27017)


# confirm that our new database was created
if 'uk_food' in mongo.list_database_names():
    print("'uk_food' database created correctly.")
else:
    print("uk_food database does not exist.")


# assign the uk_food database to a variable name
db = mongo['uk_food']


# review the collections in our new database
db.list_collection_names()


# review a document in the establishments collection
db.establishments.find_one()


# assign the collection to a variable
establishments = db['establishments']








# Create a dictionary for the new restaurant data
restaurant_dict = {
    'BusinessName': "Penang Flavours",
    'BusinessType': "Restaurant/Cafe/Canteen",
    'BusinessTypeID': "",

    'AddressLine1': "Penang Flavours",
    'AddressLine2': "146A Plumstead Rd",
    'AddressLine3': "London",
    'AddressLine4': "",
    'PostCode': "SE18 7DY",
    'Phone': "",
    'LocalAuthorityCode': "511",
    'LocalAuthorityName': "Greenwich",
    'LocalAuthorityWebsite': "http://www.royalgreenwich.gov.uk",
    'LocalAuthorityEmailAddress': "health@royalgreenwich.gov.uk",
    'scores': {
        'Hygiene': "",
        'Structural': "",
        'ConfidenceInManagement': ""
    },
    'SchemeType': "FHRS",
    'geocode': {
        'longitude': "0.08384000",
        'latitude': "51.49014200"
    },
    'RightToReply': "",
    'Distance': 4623.9723280747176,
    'NewRatingPending': True
}


# Insert the new restaurant into the collection
establishments.insert_one(restaurant_dict)


# Check that the new restaurant was inserted
establishments.find_one({'BusinessName': "Penang Flavours"})





# Find the BusinessTypeID for "Restaurant/Cafe/Canteen" and return only the BusinessTypeID and BusinessType fields
select_fields = ['BusinessTypeID', 'BusinessType']

# Create a dictionary to return selected fields
fields = dict([(field, 1) for field in select_fields])

# Do not return '_id_' field
fields['_id'] = 0

# Find the BusinessTypeID
getID = establishments.find_one({'BusinessType': "Restaurant/Cafe/Canteen"}, fields)

# Print the result
print(getID)





# Update the new restaurant with the correct BusinessTypeID
query = {'$set': {'BusinessTypeID': getID['BusinessTypeID']}}
establishments.update_one({'BusinessName': "Penang Flavours"}, query)


# Confirm that the new restaurant was updated
select_fields = ['BusinessName', 'BusinessTypeID']
fields = dict([(field, 1) for field in select_fields])

establishments.find_one({'BusinessName': "Penang Flavours"}, fields)





# Find how many documents have LocalAuthorityName as "Dover"
establishments.count_documents({'LocalAuthorityName': "Dover"})


# Delete all documents where LocalAuthorityName is "Dover"
establishments.delete_many({'LocalAuthorityName': "Dover"})


# Check if any remaining documents include Dover
establishments.count_documents({'LocalAuthorityName': "Dover"})


# Check that other documents remain with 'find_one'
establishments.find_one()








# Change the data type from String to Decimal for longitude and latitude
convert_long = {'$set': {'geocode.longitude': {'$toDecimal': '$geocode.longitude'}}}
convert_lat = {'$set': {'geocode.latitude': {'$toDecimal': '$geocode.latitude'}}}

establishments.update_many({}, [convert_long, convert_lat])





# Set non 1-5 Rating Values to Null
non_ratings = ["AwaitingInspection", "Awaiting Inspection", "AwaitingPublication", "Pass", "Exempt"]
establishments.update_many({"RatingValue": {"$in": non_ratings}}, [ {'$set':{ "RatingValue" : None}} ])


# Change the data type from String to Integer for RatingValue
establishments.update_many({}, [{'$set': {'RatingValue': {'$toInt': '$RatingValue'}}}])


# Check that the coordinates and rating value are now numbers
select_fields = ['geocode', 'RatingValue']
pprint(list(establishments.find({}, select_fields)))



