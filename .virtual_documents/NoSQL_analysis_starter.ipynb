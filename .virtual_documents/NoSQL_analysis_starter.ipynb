





# Import dependencies
from pymongo import MongoClient
from pprint import pprint


# Create an instance of MongoClient
mongo = MongoClient(port=27017)


# assign the uk_food database to a variable name
db = mongo['uk_food']


# review the collections in our database
db.list_collection_names()


# assign the collection to a variable
establishments = db['establishments']





# Display an example of a document, to see the fields
establishments.find_one()





# Find the establishments with a hygiene score of 20
query = {'scores.Hygiene': {'$gt': 20}}

# Use count_documents to display the number of documents in the result
print(f'Number of documents: {establishments.count_documents(query)}\n')

# Display the first document in the results using pprint
results = establishments.find_one(query)
print("First document:")
pprint(results)


# Convert the result to a Pandas DataFrame


# Display the number of rows in the DataFrame


# Display the first 10 rows of the DataFrame






# Find the establishments with London as the Local Authority and has a RatingValue greater than or equal to 4.
query = {'LocalAuthorityName': {'$regex': "London"}, 'RatingValue': {'$gte': 4}}

# Use count_documents to display the number of documents in the result
print(f'Number of documents: {establishments.count_documents(query)}\n')

# Display the first document in the results using pprint
results = establishments.find_one(query)
print("First document:")
pprint(results)


# Convert the result to a Pandas DataFrame

# Display the number of rows in the DataFrame

# Display the first 10 rows of the DataFrame






# Search within 0.01 degree on either side of the latitude and longitude.
# Rating value must equal 5
# Sort by hygiene score
restaurant = {'BusinessName': "Penang Flavours"}

degree_search = 0.01
latitude = establishments.find_one(restaurant)['geocode']['latitude']
longitude = establishments.find_one(restaurant)['geocode']['longitude']

from decimal import Decimal
query = {
    'RatingValue': 5,
    'geocode.latitude': {'$gte': float(latitude) - degree_search, '$lte': float(latitude) + degree_search},
    'geocode.longitude': {'$gte': longitude - degree_search, '$lte': longitude + degree_search}
}
# sort = 
# limit = 5

# Print the results
pprint(list(establishments.find(query)))


# Convert result to Pandas DataFrame






# Create a pipeline that: 
# 1. Matches establishments with a hygiene score of 0
# 2. Groups the matches by Local Authority
# 3. Sorts the matches from highest to lowest

# Print the number of documents in the result

# Print the first 10 results



# Convert the result to a Pandas DataFrame

# Display the number of rows in the DataFrame

# Display the first 10 rows of the DataFrame

